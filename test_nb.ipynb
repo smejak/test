{
 "cells": [
  {
   "cell_type": "markdown",
   "id": "9bc96e03-9fba-4662-9f48-1a627fd99711",
   "metadata": {},
   "source": [
    "### Test Heading\n",
    "Lorem ipsum"
   ]
  },
  {
   "cell_type": "code",
   "execution_count": 26,
   "id": "1b9bac97-ff6b-4dc7-a3df-302a61f0280e",
   "metadata": {},
   "outputs": [
    {
     "name": "stdout",
     "output_type": "stream",
     "text": [
      "notebook script is running, first cell\n"
     ]
    }
   ],
   "source": [
    "import os\n",
    "\n",
    "print(\"notebook script is running, first cell\")\n",
    "\n",
    "def hello():\n",
    "    print(\"Inside the hello function: This is a test notebook converted to a script\")\n",
    "    with open('./data/outputs/hello.txt', 'w') as f:\n",
    "        f.write('Testing the algorithm')\n",
    "    return \"hello\""
   ]
  },
  {
   "cell_type": "code",
   "execution_count": 27,
   "id": "d5052fe1-5c50-4ab9-98b6-04e5f8850ae8",
   "metadata": {},
   "outputs": [
    {
     "name": "stdout",
     "output_type": "stream",
     "text": [
      "second cell is also running\n"
     ]
    }
   ],
   "source": [
    "print(\"second cell is also running\")"
   ]
  },
  {
   "cell_type": "code",
   "execution_count": 28,
   "id": "f515a23d-03f0-4365-b294-38ee59410c2d",
   "metadata": {},
   "outputs": [
    {
     "name": "stdout",
     "output_type": "stream",
     "text": [
      "executing hello function\n",
      "Inside the hello function: This is a test notebook converted to a script\n"
     ]
    },
    {
     "data": {
      "text/plain": [
       "'hello'"
      ]
     },
     "execution_count": 28,
     "metadata": {},
     "output_type": "execute_result"
    }
   ],
   "source": [
    "print(\"executing hello function\")\n",
    "hello()"
   ]
  },
  {
   "cell_type": "code",
   "execution_count": null,
   "id": "6b86a4cf-153f-427b-8da5-178fbc50cc53",
   "metadata": {},
   "outputs": [],
   "source": []
  }
 ],
 "metadata": {
  "kernelspec": {
   "display_name": "Python 3",
   "language": "python",
   "name": "python3"
  },
  "language_info": {
   "codemirror_mode": {
    "name": "ipython",
    "version": 3
   },
   "file_extension": ".py",
   "mimetype": "text/x-python",
   "name": "python",
   "nbconvert_exporter": "python",
   "pygments_lexer": "ipython3",
   "version": "3.8.13"
  }
 },
 "nbformat": 4,
 "nbformat_minor": 5
}
